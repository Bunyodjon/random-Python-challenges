{
 "cells": [
  {
   "cell_type": "markdown",
   "id": "f8e071c9",
   "metadata": {},
   "source": [
    "#### 1. Finding Duplicate Character"
   ]
  },
  {
   "cell_type": "code",
   "execution_count": 29,
   "id": "7bdc535d",
   "metadata": {},
   "outputs": [],
   "source": [
    "def duplicateCheck(text):\n",
    "    character_list = [0]*128\n",
    "    duplicate_values = set()\n",
    "    \n",
    "    for i, v in enumerate(text):\n",
    "        character_list[ord(v)]+=1\n",
    "        \n",
    "        if character_list[ord(v)]>1:\n",
    "            duplicate_values.add(v)\n",
    "    return duplicate_values"
   ]
  },
  {
   "cell_type": "code",
   "execution_count": 30,
   "id": "39382dec",
   "metadata": {},
   "outputs": [
    {
     "data": {
      "text/plain": [
       "{'a', 'd', 'g', 's'}"
      ]
     },
     "execution_count": 30,
     "metadata": {},
     "output_type": "execute_result"
    }
   ],
   "source": [
    "duplicateCheck('asdassdfgdg')"
   ]
  },
  {
   "cell_type": "markdown",
   "id": "241cbe66",
   "metadata": {},
   "source": [
    "#### 2. Longest Substring Without Repeating Characters (leetcode)"
   ]
  },
  {
   "cell_type": "code",
   "execution_count": 31,
   "id": "8bdeb880",
   "metadata": {},
   "outputs": [],
   "source": [
    "def lengthOfLongestSubstring(s):\n",
    "    \n",
    "    def duplicateCheck(start, end):\n",
    "        character_list = [0]*128\n",
    "        #duplicate_values = set()\n",
    "    \n",
    "        for i in range(start, end+1):\n",
    "            c = s[i]\n",
    "            character_list[ord(c)]+=1\n",
    "            \n",
    "            if character_list[ord(c)]>1:\n",
    "                return False\n",
    "        return True\n",
    "    \n",
    "    n = len(s)\n",
    "    res = 0\n",
    "    \n",
    "    for i in range(n):\n",
    "        for j in range(i, n):\n",
    "            #print(s[i:j])\n",
    "            if duplicateCheck(i, j):\n",
    "                res = max(res, j-i+1)\n",
    "    return res"
   ]
  },
  {
   "cell_type": "code",
   "execution_count": 32,
   "id": "83512aed",
   "metadata": {},
   "outputs": [
    {
     "data": {
      "text/plain": [
       "5"
      ]
     },
     "execution_count": 32,
     "metadata": {},
     "output_type": "execute_result"
    }
   ],
   "source": [
    "lengthOfLongestSubstring('helko')"
   ]
  },
  {
   "cell_type": "markdown",
   "id": "8a904eec",
   "metadata": {},
   "source": [
    "#### 3. Return the \"centered\" average of an array of ints, which we'll say is the mean average of the values, except ignoring the largest and smallest values in the array. If there are multiple copies of the smallest value, ignore just one copy, and likewise for the largest value. Use int division to produce the final average. You may assume that the array is length 3 or more."
   ]
  },
  {
   "cell_type": "code",
   "execution_count": 33,
   "id": "fbb107c1",
   "metadata": {},
   "outputs": [],
   "source": [
    "def centeredAverage2(nums):\n",
    "    nums_sorted = sorted(nums)\n",
    "    \n",
    "    return_list = []\n",
    "    total =0\n",
    "    for i in range(1, len(nums_sorted)-1):\n",
    "        total +=nums_sorted[i]\n",
    "        return_list.append(nums_sorted[i]) \n",
    "    \n",
    "    denominator = len(nums_sorted) - 2\n",
    "    centeredaverage = int(total / denominator)\n",
    "    return centeredaverage"
   ]
  },
  {
   "cell_type": "code",
   "execution_count": 34,
   "id": "7e6b2c77",
   "metadata": {},
   "outputs": [],
   "source": [
    "example = [1, 1, 5, 5, 10, 8, 7]"
   ]
  },
  {
   "cell_type": "code",
   "execution_count": 35,
   "id": "e889ac62",
   "metadata": {},
   "outputs": [
    {
     "data": {
      "text/plain": [
       "5"
      ]
     },
     "execution_count": 35,
     "metadata": {},
     "output_type": "execute_result"
    }
   ],
   "source": [
    "centeredAverage2(example)"
   ]
  },
  {
   "cell_type": "markdown",
   "id": "efc4b2da",
   "metadata": {},
   "source": [
    "#### 4. Checking for carriage return, tab character and any white spaces"
   ]
  },
  {
   "cell_type": "code",
   "execution_count": 36,
   "id": "3aceb415",
   "metadata": {},
   "outputs": [],
   "source": [
    "def check_whitespace(lines):\n",
    "    \"\"\"Check for whitespace and line length issues.\"\"\"\n",
    "    for lno, line in enumerate(lines):\n",
    "        if \"\\r\" in line:\n",
    "            yield lno+1, \"\\\\r in line\"\n",
    "        if \"\\t\" in line:\n",
    "            yield lno+1, \"OMG TABS!!!1\"\n",
    "        if line[:-1].rstrip(\" \\t\") != line[:-1]:\n",
    "            yield lno+1, \"trailing whitespace\""
   ]
  },
  {
   "cell_type": "markdown",
   "id": "283c7fe4",
   "metadata": {},
   "source": [
    "#### 5. Given a list, replace the NULL values with the previous value in the list."
   ]
  },
  {
   "cell_type": "code",
   "execution_count": 37,
   "id": "7d954ba3",
   "metadata": {},
   "outputs": [],
   "source": [
    "arr = [None, None, 1, 2, None, None, 5, 6, 8, 10, 22, 66, None]"
   ]
  },
  {
   "cell_type": "code",
   "execution_count": 38,
   "id": "4309695d",
   "metadata": {},
   "outputs": [],
   "source": [
    "def NoneRemover(arr):\n",
    "    \n",
    "    for index, value in enumerate(arr):\n",
    "        if index==0 and value==None:\n",
    "            arr.pop(index)\n",
    "            NoneRemover(arr)\n",
    "            break\n",
    "        elif index > 0 and value == None: \n",
    "            arr[index] = arr[index-1]\n",
    "        else: \n",
    "            continue\n",
    "    return arr    "
   ]
  },
  {
   "cell_type": "code",
   "execution_count": 39,
   "id": "0bc2093c",
   "metadata": {},
   "outputs": [
    {
     "data": {
      "text/plain": [
       "[1, 2, 2, 2, 5, 6, 8, 10, 22, 66, 66]"
      ]
     },
     "execution_count": 39,
     "metadata": {},
     "output_type": "execute_result"
    }
   ],
   "source": [
    "NoneRemover(arr)"
   ]
  },
  {
   "cell_type": "markdown",
   "id": "ae5d67e3",
   "metadata": {},
   "source": [
    "#### 6. Write a function to return a list with words that don't have a match (case sensitive) between two strings\n"
   ]
  },
  {
   "cell_type": "code",
   "execution_count": 40,
   "id": "713ca503",
   "metadata": {},
   "outputs": [],
   "source": [
    "input_list = [\"America is an awesome place\", \"America Is an AWESOME place\"]"
   ]
  },
  {
   "cell_type": "code",
   "execution_count": 41,
   "id": "461959aa",
   "metadata": {},
   "outputs": [],
   "source": [
    "def nonMatchWordFinder(text):\n",
    "    \n",
    "    answer_return = set()\n",
    "    \n",
    "    input_text1 = text[0].split()\n",
    "    input_text2 = text[1].split()\n",
    "    \n",
    "    # find the difference between 1 and 2 \n",
    "    find_diff1 = set(input_text1).difference(input_text2)\n",
    "    for i in find_diff1:\n",
    "        answer_return.add(i)   \n",
    "    \n",
    "    # find the difference between 1 and 2 \n",
    "    find_diff2 = set(input_text2).difference(input_text1)\n",
    "    for j in find_diff2:\n",
    "        answer_return.add(j)  \n",
    "    \n",
    "    return answer_return"
   ]
  },
  {
   "cell_type": "code",
   "execution_count": 42,
   "id": "569bf52a",
   "metadata": {},
   "outputs": [
    {
     "data": {
      "text/plain": [
       "{'AWESOME', 'Is', 'awesome', 'is'}"
      ]
     },
     "execution_count": 42,
     "metadata": {},
     "output_type": "execute_result"
    }
   ],
   "source": [
    "nonMatchWordFinder(input_list)"
   ]
  },
  {
   "cell_type": "markdown",
   "id": "28a30aac",
   "metadata": {},
   "source": [
    "#### 7. Remove minimum number of quotes to make a string valid. Using Stacks.  "
   ]
  },
  {
   "cell_type": "code",
   "execution_count": 43,
   "id": "cb0b7b43",
   "metadata": {},
   "outputs": [],
   "source": [
    "def minRemoveToMakeValid(self, s: str):\n",
    "       \n",
    "        indexes_to_remove = set()        \n",
    "        stack = []\n",
    "        \n",
    "        for index, value in enumerate(s):\n",
    "            \n",
    "            if value not in \"()\":\n",
    "                continue\n",
    "            if value =='(':\n",
    "                stack.append(index)\n",
    "            elif not stack:\n",
    "                indexes_to_remove.add(index)\n",
    "            else: \n",
    "                stack.pop()\n",
    "        \n",
    "        indexes_to_remove=indexes_to_remove.union(set(stack))\n",
    "        \n",
    "        string_builder = []\n",
    "        \n",
    "        for i, c in enumerate(s):\n",
    "            if i not in indexes_to_remove:\n",
    "                string_builder.append(c)\n",
    "        return \"\".join(string_builder)"
   ]
  },
  {
   "cell_type": "markdown",
   "id": "682c8281",
   "metadata": {},
   "source": [
    "#### 8. Solving twoSum problem from leetcode. "
   ]
  },
  {
   "cell_type": "code",
   "execution_count": 44,
   "id": "2597bf35",
   "metadata": {},
   "outputs": [],
   "source": [
    "def twoSum(nums, target):\n",
    "    \n",
    "    hashmap = {}\n",
    "    \n",
    "    for i in range(len(nums)):\n",
    "        hashmap[nums[i]]=i\n",
    "        \n",
    "    for i in range(len(nums)):\n",
    "        complement = target - nums[i]\n",
    "        \n",
    "        if complement in hashmap and hashmap[complement]!=i:\n",
    "            return [i, hashmap[complement]]"
   ]
  },
  {
   "cell_type": "code",
   "execution_count": 45,
   "id": "00e3021b",
   "metadata": {},
   "outputs": [],
   "source": [
    "nums =[2,7,11,15]\n",
    "target = 9"
   ]
  },
  {
   "cell_type": "code",
   "execution_count": 46,
   "id": "f4e63aa2",
   "metadata": {},
   "outputs": [
    {
     "data": {
      "text/plain": [
       "[0, 1]"
      ]
     },
     "execution_count": 46,
     "metadata": {},
     "output_type": "execute_result"
    }
   ],
   "source": [
    "twoSum(nums, target)"
   ]
  }
 ],
 "metadata": {
  "kernelspec": {
   "display_name": "Python 3 (ipykernel)",
   "language": "python",
   "name": "python3"
  },
  "language_info": {
   "codemirror_mode": {
    "name": "ipython",
    "version": 3
   },
   "file_extension": ".py",
   "mimetype": "text/x-python",
   "name": "python",
   "nbconvert_exporter": "python",
   "pygments_lexer": "ipython3",
   "version": "3.9.7"
  }
 },
 "nbformat": 4,
 "nbformat_minor": 5
}
